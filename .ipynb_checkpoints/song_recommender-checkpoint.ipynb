{
 "cells": [
  {
   "cell_type": "code",
   "execution_count": null,
   "id": "4c6ea8fc",
   "metadata": {},
   "outputs": [],
   "source": [
    "from song_recommender import song_recommender"
   ]
  },
  {
   "cell_type": "code",
   "execution_count": null,
   "id": "9dd37bed",
   "metadata": {},
   "outputs": [],
   "source": [
    "song_recommender()"
   ]
  }
 ],
 "metadata": {
  "kernelspec": {
   "display_name": "Python 3 (ipykernel)",
   "language": "python",
   "name": "python3"
  },
  "language_info": {
   "codemirror_mode": {
    "name": "ipython",
    "version": 3
   },
   "file_extension": ".py",
   "mimetype": "text/x-python",
   "name": "python",
   "nbconvert_exporter": "python",
   "pygments_lexer": "ipython3",
   "version": "3.11.5"
  }
 },
 "nbformat": 4,
 "nbformat_minor": 5
}
